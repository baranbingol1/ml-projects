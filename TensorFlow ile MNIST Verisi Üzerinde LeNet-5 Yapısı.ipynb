{
  "nbformat": 4,
  "nbformat_minor": 0,
  "metadata": {
    "colab": {
      "provenance": []
    },
    "kernelspec": {
      "name": "python3",
      "display_name": "Python 3"
    },
    "language_info": {
      "name": "python"
    },
    "accelerator": "GPU",
    "gpuClass": "standard"
  },
  "cells": [
    {
      "cell_type": "code",
      "execution_count": 31,
      "metadata": {
        "id": "npoK9qa3UoRT"
      },
      "outputs": [],
      "source": [
        "# Bu notebook'umuzda el yazısı verisini LeNet-5 kullanarak ayırt etmeye çalışacağız.\n",
        "# Öncelikle verimizi almamız gerekiyor. (Bu notebook hızlı olması bakımından google colab ortamında GPU kullanılarak çalıştırılmıştır)\n",
        "from keras.datasets import mnist\n",
        "\n",
        "(X_train, y_train), (X_test, y_test) = mnist.load_data()"
      ]
    },
    {
      "cell_type": "code",
      "source": [
        "# Şimdi test ve train sayılarına ve matriks boyutlarına bakalım.\n",
        "print(f\"Train X = {X_train.shape}, y = {y_train.shape}\")\n",
        "print(f\"Test X = {X_test.shape}, y = {y_test.shape}\")"
      ],
      "metadata": {
        "colab": {
          "base_uri": "https://localhost:8080/"
        },
        "id": "PzL7_p8oVl_-",
        "outputId": "579a8416-a257-42e0-dd43-9272d91c3123"
      },
      "execution_count": 32,
      "outputs": [
        {
          "output_type": "stream",
          "name": "stdout",
          "text": [
            "Train X = (60000, 28, 28), y = (60000,)\n",
            "Test X = (10000, 28, 28), y = (10000,)\n"
          ]
        }
      ]
    },
    {
      "cell_type": "code",
      "source": [
        "# Şimdi örnek olarak birkaç veriye bakalım.\n",
        "import matplotlib.pyplot as plt\n",
        "for i in range(9):\n",
        "  plt.subplot(3,3,i+1)\n",
        "  plt.imshow(X_train[i], cmap=plt.get_cmap('gray'))"
      ],
      "metadata": {
        "colab": {
          "base_uri": "https://localhost:8080/",
          "height": 433
        },
        "id": "19Cj75koWPLL",
        "outputId": "502462c8-303d-458c-c0fb-0c917a8dba6c"
      },
      "execution_count": 33,
      "outputs": [
        {
          "output_type": "display_data",
          "data": {
            "text/plain": [
              "<Figure size 640x480 with 9 Axes>"
            ],
            "image/png": "[encoded data removed]"
          },
          "metadata": {}
        }
      ]
    },
    {
      "cell_type": "code",
      "source": [
        "# Görüldüğü üzere verimiz el yazması sayılardan oluşmakta şimdi size verimizi modele sokmadan önce\n",
        "# 2'nin üssü bir şekilde olması için zero-padding yapıp matriks şeklini (32,32) yapıcaz ve\n",
        "# verileri normalize edeceğiz.\n",
        "import numpy as np\n",
        "X_train_padded = np.pad(X_train, ((0,0),(2,2),(2,2)), 'constant')\n",
        "X_test_padded = np.pad(X_test, ((0,0),(2,2),(2,2)), 'constant')"
      ],
      "metadata": {
        "id": "kIii61R3WmSI"
      },
      "execution_count": 34,
      "outputs": []
    },
    {
      "cell_type": "code",
      "source": [
        "X_train_padded.shape, X_test_padded.shape"
      ],
      "metadata": {
        "id": "VercW1SGXuT8",
        "colab": {
          "base_uri": "https://localhost:8080/"
        },
        "outputId": "bbdbcb65-282a-491e-d288-0333ef96933a"
      },
      "execution_count": 35,
      "outputs": [
        {
          "output_type": "execute_result",
          "data": {
            "text/plain": [
              "((60000, 32, 32), (10000, 32, 32))"
            ]
          },
          "metadata": {},
          "execution_count": 35
        }
      ]
    },
    {
      "cell_type": "code",
      "source": [
        "# Şimdi ise padlediğimiz verileri normalize edelim.\n",
        "X_train_padded = X_train_padded.astype('float32')\n",
        "X_test_padded = X_test_padded.astype('float32')\n",
        "X_train_padded /= 255\n",
        "X_test_padded /= 255\n",
        "print(np.min(X_train_padded), np.min(X_test_padded))\n",
        "print(np.max(X_train_padded), np.max(X_test_padded))"
      ],
      "metadata": {
        "colab": {
          "base_uri": "https://localhost:8080/"
        },
        "id": "nu9dgxnNZiXT",
        "outputId": "b0bb2a85-0ac1-4d6b-eb08-2d28be173b46"
      },
      "execution_count": 37,
      "outputs": [
        {
          "output_type": "stream",
          "name": "stdout",
          "text": [
            "0.0 0.0\n",
            "1.0 1.0\n"
          ]
        }
      ]
    },
    {
      "cell_type": "code",
      "source": [
        "# CNN'ler genelde 4 boyutlu(batch_size, height, width, channels boyutları) tensorları kabul eder. Bu yüzden bir dummy axis oluşturmamız gerek.\n",
        "import tensorflow as tf\n",
        "X_train_padded = tf.expand_dims(X_train_padded, axis=3, name=None)\n",
        "X_test_padded = tf.expand_dims(X_test_padded, axis=3, name=None)\n",
        "X_train_padded.shape, X_test_padded.shape"
      ],
      "metadata": {
        "colab": {
          "base_uri": "https://localhost:8080/"
        },
        "id": "Abie5sq2cB1O",
        "outputId": "b4ed2455-b54f-4418-b954-61593c21361e"
      },
      "execution_count": 40,
      "outputs": [
        {
          "output_type": "execute_result",
          "data": {
            "text/plain": [
              "(TensorShape([60000, 32, 32, 1]), TensorShape([10000, 32, 32, 1]))"
            ]
          },
          "metadata": {},
          "execution_count": 40
        }
      ]
    },
    {
      "cell_type": "code",
      "source": [
        "# Şimdi sinir ağını oluşturmaya başlayalım.\n",
        "# Şimdi ise LeNet-5 modelimizi oluşturalım.\n",
        "from tensorflow.keras import Sequential, layers, models, losses\n",
        "from keras.layers import Conv2D, AveragePooling2D, Activation, Flatten, Dense\n",
        "def lenet5():\n",
        "  model = Sequential()\n",
        "  model.add(Conv2D(6, 5, activation='tanh', input_shape=X_train_padded.shape[1:]))\n",
        "  model.add(AveragePooling2D(2))\n",
        "  model.add(Activation('sigmoid'))\n",
        "  model.add(Conv2D(16, 5, activation='tanh'))\n",
        "  model.add(AveragePooling2D(2))\n",
        "  model.add(Activation('sigmoid'))\n",
        "  model.add(Conv2D(120, 5, activation='tanh'))\n",
        "  model.add(Flatten())\n",
        "  model.add(Dense(84, activation='tanh'))\n",
        "  model.add(Dense(10, activation='softmax'))\n",
        "  return model\n",
        "\n",
        "model = lenet5()\n",
        "\n",
        "model.compile(loss=losses.sparse_categorical_crossentropy,\n",
        "              optimizer=\"adam\",\n",
        "              metrics=[\"accuracy\"])\n",
        "\n",
        "history = model.fit(X_train_padded, y_train, batch_size=128, epochs=10, validation_data=(X_test_padded, y_test))"
      ],
      "metadata": {
        "colab": {
          "base_uri": "https://localhost:8080/"
        },
        "id": "0HMsvYafaBNE",
        "outputId": "15bee45b-823c-4ad6-9f41-e1e691b4be9e"
      },
      "execution_count": 57,
      "outputs": [
        {
          "output_type": "stream",
          "name": "stdout",
          "text": [
            "Epoch 1/10\n",
            "469/469 [==============================] - 4s 6ms/step - loss: 1.7378 - accuracy: 0.3688 - val_loss: 0.5482 - val_accuracy: 0.8361\n",
            "Epoch 2/10\n",
            "469/469 [==============================] - 4s 8ms/step - loss: 0.4325 - accuracy: 0.8673 - val_loss: 0.3608 - val_accuracy: 0.8866\n",
            "Epoch 3/10\n",
            "469/469 [==============================] - 4s 8ms/step - loss: 0.3115 - accuracy: 0.9031 - val_loss: 0.2446 - val_accuracy: 0.9263\n",
            "Epoch 4/10\n",
            "469/469 [==============================] - 3s 6ms/step - loss: 0.2576 - accuracy: 0.9187 - val_loss: 0.2037 - val_accuracy: 0.9348\n",
            "Epoch 5/10\n",
            "469/469 [==============================] - 3s 7ms/step - loss: 0.2217 - accuracy: 0.9299 - val_loss: 0.2076 - val_accuracy: 0.9380\n",
            "Epoch 6/10\n",
            "469/469 [==============================] - 3s 6ms/step - loss: 0.2005 - accuracy: 0.9363 - val_loss: 0.1704 - val_accuracy: 0.9465\n",
            "Epoch 7/10\n",
            "469/469 [==============================] - 3s 5ms/step - loss: 0.1803 - accuracy: 0.9424 - val_loss: 0.1617 - val_accuracy: 0.9483\n",
            "Epoch 8/10\n",
            "469/469 [==============================] - 3s 6ms/step - loss: 0.1627 - accuracy: 0.9486 - val_loss: 0.1509 - val_accuracy: 0.9514\n",
            "Epoch 9/10\n",
            "469/469 [==============================] - 3s 6ms/step - loss: 0.1496 - accuracy: 0.9529 - val_loss: 0.1428 - val_accuracy: 0.9560\n",
            "Epoch 10/10\n",
            "469/469 [==============================] - 3s 7ms/step - loss: 0.1423 - accuracy: 0.9551 - val_loss: 0.1530 - val_accuracy: 0.9521\n"
          ]
        }
      ]
    },
    {
      "cell_type": "code",
      "source": [
        "# Şimdi ise modelimizin sürecini görselleştirelim.\n",
        "import pandas as pd\n",
        "pd.DataFrame(history.history).plot()"
      ],
      "metadata": {
        "colab": {
          "base_uri": "https://localhost:8080/",
          "height": 449
        },
        "id": "SimArOlrctJ2",
        "outputId": "acd7d06c-d3e4-4c0b-f0a6-65fd252f6156"
      },
      "execution_count": 59,
      "outputs": [
        {
          "output_type": "execute_result",
          "data": {
            "text/plain": [
              "<Axes: >"
            ]
          },
          "metadata": {},
          "execution_count": 59
        },
        {
          "output_type": "display_data",
          "data": {
            "text/plain": [
              "<Figure size 640x480 with 1 Axes>"
            ],
            "image/png": "[encoded data removed]"
          },
          "metadata": {}
        }
      ]
    },
    {
      "cell_type": "code",
      "source": [
        "# Şimdi test datası üzerinde modelimizi değerlendirelim\n",
        "model.evaluate(X_test_padded, y_test)"
      ],
      "metadata": {
        "colab": {
          "base_uri": "https://localhost:8080/"
        },
        "id": "xalimUTbcvcP",
        "outputId": "5ab394eb-3cf6-42ec-b0c1-4e42f616283d"
      },
      "execution_count": 60,
      "outputs": [
        {
          "output_type": "stream",
          "name": "stdout",
          "text": [
            "313/313 [==============================] - 1s 4ms/step - loss: 0.1530 - accuracy: 0.9521\n"
          ]
        },
        {
          "output_type": "execute_result",
          "data": {
            "text/plain": [
              "[0.15304681658744812, 0.9520999789237976]"
            ]
          },
          "metadata": {},
          "execution_count": 60
        }
      ]
    },
    {
      "cell_type": "code",
      "source": [],
      "metadata": {
        "id": "SBDcV9wcfymP"
      },
      "execution_count": null,
      "outputs": []
    }
  ]
}