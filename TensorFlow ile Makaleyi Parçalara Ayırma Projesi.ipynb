{
  "nbformat": 4,
  "nbformat_minor": 0,
  "metadata": {
    "colab": {
      "provenance": [],
      "gpuType": "T4"
    },
    "kernelspec": {
      "name": "python3",
      "display_name": "Python 3"
    },
    "language_info": {
      "name": "python"
    },
    "accelerator": "GPU",
    "gpuClass": "standard"
  },
  "cells": [
    {
      "cell_type": "code",
      "execution_count": 90,
      "metadata": {
        "colab": {
          "base_uri": "https://localhost:8080/"
        },
        "id": "YkYABK35D77g",
        "outputId": "a7a428b2-5d68-4677-8792-8bc96184fa34"
      },
      "outputs": [
        {
          "output_type": "stream",
          "name": "stdout",
          "text": [
            "fatal: destination path 'pubmed-rct' already exists and is not an empty directory.\n",
            "PubMed_200k_RCT\n",
            "PubMed_200k_RCT_numbers_replaced_with_at_sign\n",
            "PubMed_20k_RCT\n",
            "PubMed_20k_RCT_numbers_replaced_with_at_sign\n",
            "README.md\n"
          ]
        }
      ],
      "source": [
        "# Bu çalışma https://arxiv.org/abs/1612.05251 makalesinden esinlenilmiştir.\n",
        "# Bu makalede yapılan model bir akademik çalışma sonucu oluşan makalenin abstract kısmını okunması daha kolay olan 5 farklı parçaya ayırıyor.\n",
        "# Öncelikle verimizin ait olduğu repoyu klonlayalım (bu notebook google colab ortamında gpu kullanılarak oluşturulmuştur)\n",
        "import tensorflow as tf\n",
        "!git clone https://github.com/Franck-Dernoncourt/pubmed-rct.git\n",
        "!ls pubmed-rct"
      ]
    },
    {
      "cell_type": "code",
      "source": [
        "# Biz bu veri setlerinden PubMed_20k_RCT_numbers_replaced_with_at_sign'ı kullanacağız. Bu veri setinde metindeki sayılar @ işareti ile değiştirilmiştir.\n",
        "!ls pubmed-rct/PubMed_20k_RCT_numbers_replaced_with_at_sign"
      ],
      "metadata": {
        "colab": {
          "base_uri": "https://localhost:8080/"
        },
        "id": "8o3K0_FXEqj6",
        "outputId": "c586b725-d99e-4040-90b6-3369d31db7b1"
      },
      "execution_count": 91,
      "outputs": [
        {
          "output_type": "stream",
          "name": "stdout",
          "text": [
            "dev.txt  test.txt  train.txt\n"
          ]
        }
      ]
    },
    {
      "cell_type": "code",
      "source": [
        "# Veri setinin olduğu dosyadaki dev.txt validation için ayırılmış test.txt test için train.txt ise train için ayrılmış.\n",
        "# Şimdi verilerimizi python listesine çekelim.\n",
        "\n",
        "data_dir = \"/content/pubmed-rct/PubMed_20k_RCT_numbers_replaced_with_at_sign/\"\n",
        "\n",
        "# Veri setimizin bulunduğu yerdeki dosya isimlerine bakalım\n",
        "\n",
        "import os\n",
        "filenames = [data_dir + filename for filename in os.listdir(data_dir)]\n",
        "filenames"
      ],
      "metadata": {
        "colab": {
          "base_uri": "https://localhost:8080/"
        },
        "id": "h1_SCvzfHtk4",
        "outputId": "f849424a-aaaf-465b-da16-fc98576c7dc2"
      },
      "execution_count": 92,
      "outputs": [
        {
          "output_type": "execute_result",
          "data": {
            "text/plain": [
              "['/content/pubmed-rct/PubMed_20k_RCT_numbers_replaced_with_at_sign/dev.txt',\n",
              " '/content/pubmed-rct/PubMed_20k_RCT_numbers_replaced_with_at_sign/train.txt',\n",
              " '/content/pubmed-rct/PubMed_20k_RCT_numbers_replaced_with_at_sign/test.txt']"
            ]
          },
          "metadata": {},
          "execution_count": 92
        }
      ]
    },
    {
      "cell_type": "code",
      "source": [
        "# Şimdi ise verilerimizi python listesine çekelim\n",
        "\n",
        "def read_lines(filename):\n",
        "  with open(filename, \"r\") as f:\n",
        "    return f.readlines()\n",
        "\n",
        "train_lines = read_lines(data_dir + \"train.txt\")\n",
        "train_lines[:20]"
      ],
      "metadata": {
        "colab": {
          "base_uri": "https://localhost:8080/"
        },
        "id": "mMa-BKieKN0j",
        "outputId": "c72121a5-8176-4cf1-8a75-6b1e36f8aa63"
      },
      "execution_count": 93,
      "outputs": [
        {
          "output_type": "execute_result",
          "data": {
            "text/plain": [
              "['###24293578\\n',\n",
              " 'OBJECTIVE\\tTo investigate the efficacy of @ weeks of daily low-dose oral prednisolone in improving pain , mobility , and systemic low-grade inflammation in the short term and whether the effect would be sustained at @ weeks in older adults with moderate to severe knee osteoarthritis ( OA ) .\\n',\n",
              " 'METHODS\\tA total of @ patients with primary knee OA were randomized @:@ ; @ received @ mg/day of prednisolone and @ received placebo for @ weeks .\\n',\n",
              " 'METHODS\\tOutcome measures included pain reduction and improvement in function scores and systemic inflammation markers .\\n',\n",
              " 'METHODS\\tPain was assessed using the visual analog pain scale ( @-@ mm ) .\\n',\n",
              " 'METHODS\\tSecondary outcome measures included the Western Ontario and McMaster Universities Osteoarthritis Index scores , patient global assessment ( PGA ) of the severity of knee OA , and @-min walk distance ( @MWD ) .\\n',\n",
              " 'METHODS\\tSerum levels of interleukin @ ( IL-@ ) , IL-@ , tumor necrosis factor ( TNF ) - , and high-sensitivity C-reactive protein ( hsCRP ) were measured .\\n',\n",
              " 'RESULTS\\tThere was a clinically relevant reduction in the intervention group compared to the placebo group for knee pain , physical function , PGA , and @MWD at @ weeks .\\n',\n",
              " 'RESULTS\\tThe mean difference between treatment arms ( @ % CI ) was @ ( @-@ @ ) , p < @ ; @ ( @-@ @ ) , p < @ ; @ ( @-@ @ ) , p < @ ; and @ ( @-@ @ ) , p < @ , respectively .\\n',\n",
              " 'RESULTS\\tFurther , there was a clinically relevant reduction in the serum levels of IL-@ , IL-@ , TNF - , and hsCRP at @ weeks in the intervention group when compared to the placebo group .\\n',\n",
              " 'RESULTS\\tThese differences remained significant at @ weeks .\\n',\n",
              " 'RESULTS\\tThe Outcome Measures in Rheumatology Clinical Trials-Osteoarthritis Research Society International responder rate was @ % in the intervention group and @ % in the placebo group ( p < @ ) .\\n',\n",
              " 'CONCLUSIONS\\tLow-dose oral prednisolone had both a short-term and a longer sustained effect resulting in less knee pain , better physical function , and attenuation of systemic inflammation in older patients with knee OA ( ClinicalTrials.gov identifier NCT@ ) .\\n',\n",
              " '\\n',\n",
              " '###24854809\\n',\n",
              " 'BACKGROUND\\tEmotional eating is associated with overeating and the development of obesity .\\n',\n",
              " 'BACKGROUND\\tYet , empirical evidence for individual ( trait ) differences in emotional eating and cognitive mechanisms that contribute to eating during sad mood remain equivocal .\\n',\n",
              " 'OBJECTIVE\\tThe aim of this study was to test if attention bias for food moderates the effect of self-reported emotional eating during sad mood ( vs neutral mood ) on actual food intake .\\n',\n",
              " 'OBJECTIVE\\tIt was expected that emotional eating is predictive of elevated attention for food and higher food intake after an experimentally induced sad mood and that attentional maintenance on food predicts food intake during a sad versus a neutral mood .\\n',\n",
              " 'METHODS\\tParticipants ( N = @ ) were randomly assigned to one of the two experimental mood induction conditions ( sad/neutral ) .\\n']"
            ]
          },
          "metadata": {},
          "execution_count": 93
        }
      ]
    },
    {
      "cell_type": "code",
      "source": [
        "# Görüldüğü gibi train.txt veri dosyasında preprocess etmemiz gereken bazı şeyler vardır.\n",
        "# Her bir yeni paragrafın belirtisi ### ifadesiyle ve ardından gelen numarayla belli oluyor.\n",
        "# Paragrafın ayrılmak istenen bölümlerini METHODS, RESULTS vs. diye labellanmış.\n",
        "# Şimdi ise preprocessing yapalım.\n",
        "\n",
        "def preprocess_text(filename):\n",
        "  # Tüm cümleleri alalım\n",
        "  input_lines = read_lines(filename)\n",
        "  abstract_lines = \"\"\n",
        "  abstract_samples = []\n",
        "\n",
        "  for line in input_lines:\n",
        "    # Eğer yeni paragrafın başlangıcıysa boş ve değişkenimizi sonraki cümleler resetliyoruz geçiyoruz.\n",
        "    if line.startswith(\"###\"):\n",
        "      abstract_lines = \"\"\n",
        "    elif line.isspace():\n",
        "      abstract_line_split = abstract_lines.splitlines()\n",
        "\n",
        "      for abstract_line_number, abstract_line in enumerate(abstract_line_split):\n",
        "        line_data = {}\n",
        "        # Cümlelerde \\t'den önce ayrılacağı bölüm \\t'den sonra ise o bölümün yazısı vardı ona göre işlem yapalım \n",
        "        target_text_split = abstract_line.split(\"\\t\")\n",
        "        line_data[\"target\"] = target_text_split[0]\n",
        "        line_data[\"text\"] = target_text_split[1].lower()\n",
        "        # Bu iki farklı kolonu da ekstra fayda sağlaması için modelimizde kullanacağız.\n",
        "        # line_number cümlenin numarasını, total_lines ise o paragraftaki toplam cümle sayısını veriyor.\n",
        "        line_data[\"line_number\"] = abstract_line_number\n",
        "        line_data[\"total_lines\"] = len(abstract_line_split) - 1\n",
        "        abstract_samples.append(line_data)\n",
        "\n",
        "    else:\n",
        "      abstract_lines += line\n",
        "\n",
        "  return abstract_samples"
      ],
      "metadata": {
        "id": "QVU9LU9eKN2Y"
      },
      "execution_count": 94,
      "outputs": []
    },
    {
      "cell_type": "code",
      "source": [
        "# Şimdi ise tüm verilerimizi preprocess ederek işleyelim.\n",
        "train_samples = preprocess_text(data_dir + \"train.txt\")\n",
        "val_samples = preprocess_text(data_dir + \"dev.txt\")\n",
        "test_samples = preprocess_text(data_dir + \"test.txt\")\n",
        "# Hepsinin toplam içerdiği veri sayısına bakalım\n",
        "len(train_samples), len(val_samples), len(test_samples)"
      ],
      "metadata": {
        "colab": {
          "base_uri": "https://localhost:8080/"
        },
        "id": "uNZpxaUHKN4D",
        "outputId": "7760e930-fc01-40ad-c1f6-2ec28c905025"
      },
      "execution_count": 95,
      "outputs": [
        {
          "output_type": "execute_result",
          "data": {
            "text/plain": [
              "(180040, 30212, 30135)"
            ]
          },
          "metadata": {},
          "execution_count": 95
        }
      ]
    },
    {
      "cell_type": "code",
      "source": [
        "# Örnek birkaç veri\n",
        "train_samples[:12]"
      ],
      "metadata": {
        "colab": {
          "base_uri": "https://localhost:8080/"
        },
        "id": "O5-pO41yMpIN",
        "outputId": "97b9c193-b19b-4bc8-d24d-e867d5e6e4fa"
      },
      "execution_count": 96,
      "outputs": [
        {
          "output_type": "execute_result",
          "data": {
            "text/plain": [
              "[{'target': 'OBJECTIVE',\n",
              "  'text': 'to investigate the efficacy of @ weeks of daily low-dose oral prednisolone in improving pain , mobility , and systemic low-grade inflammation in the short term and whether the effect would be sustained at @ weeks in older adults with moderate to severe knee osteoarthritis ( oa ) .',\n",
              "  'line_number': 0,\n",
              "  'total_lines': 11},\n",
              " {'target': 'METHODS',\n",
              "  'text': 'a total of @ patients with primary knee oa were randomized @:@ ; @ received @ mg/day of prednisolone and @ received placebo for @ weeks .',\n",
              "  'line_number': 1,\n",
              "  'total_lines': 11},\n",
              " {'target': 'METHODS',\n",
              "  'text': 'outcome measures included pain reduction and improvement in function scores and systemic inflammation markers .',\n",
              "  'line_number': 2,\n",
              "  'total_lines': 11},\n",
              " {'target': 'METHODS',\n",
              "  'text': 'pain was assessed using the visual analog pain scale ( @-@ mm ) .',\n",
              "  'line_number': 3,\n",
              "  'total_lines': 11},\n",
              " {'target': 'METHODS',\n",
              "  'text': 'secondary outcome measures included the western ontario and mcmaster universities osteoarthritis index scores , patient global assessment ( pga ) of the severity of knee oa , and @-min walk distance ( @mwd ) .',\n",
              "  'line_number': 4,\n",
              "  'total_lines': 11},\n",
              " {'target': 'METHODS',\n",
              "  'text': 'serum levels of interleukin @ ( il-@ ) , il-@ , tumor necrosis factor ( tnf ) - , and high-sensitivity c-reactive protein ( hscrp ) were measured .',\n",
              "  'line_number': 5,\n",
              "  'total_lines': 11},\n",
              " {'target': 'RESULTS',\n",
              "  'text': 'there was a clinically relevant reduction in the intervention group compared to the placebo group for knee pain , physical function , pga , and @mwd at @ weeks .',\n",
              "  'line_number': 6,\n",
              "  'total_lines': 11},\n",
              " {'target': 'RESULTS',\n",
              "  'text': 'the mean difference between treatment arms ( @ % ci ) was @ ( @-@ @ ) , p < @ ; @ ( @-@ @ ) , p < @ ; @ ( @-@ @ ) , p < @ ; and @ ( @-@ @ ) , p < @ , respectively .',\n",
              "  'line_number': 7,\n",
              "  'total_lines': 11},\n",
              " {'target': 'RESULTS',\n",
              "  'text': 'further , there was a clinically relevant reduction in the serum levels of il-@ , il-@ , tnf - , and hscrp at @ weeks in the intervention group when compared to the placebo group .',\n",
              "  'line_number': 8,\n",
              "  'total_lines': 11},\n",
              " {'target': 'RESULTS',\n",
              "  'text': 'these differences remained significant at @ weeks .',\n",
              "  'line_number': 9,\n",
              "  'total_lines': 11},\n",
              " {'target': 'RESULTS',\n",
              "  'text': 'the outcome measures in rheumatology clinical trials-osteoarthritis research society international responder rate was @ % in the intervention group and @ % in the placebo group ( p < @ ) .',\n",
              "  'line_number': 10,\n",
              "  'total_lines': 11},\n",
              " {'target': 'CONCLUSIONS',\n",
              "  'text': 'low-dose oral prednisolone had both a short-term and a longer sustained effect resulting in less knee pain , better physical function , and attenuation of systemic inflammation in older patients with knee oa ( clinicaltrials.gov identifier nct@ ) .',\n",
              "  'line_number': 11,\n",
              "  'total_lines': 11}]"
            ]
          },
          "metadata": {},
          "execution_count": 96
        }
      ]
    },
    {
      "cell_type": "code",
      "source": [
        "# Verilerimizi daha kolay işlem yapabilmek için pandas dataframe'e geçirelim\n",
        "import pandas as pd\n",
        "train_df = pd.DataFrame(train_samples)\n",
        "val_df = pd.DataFrame(val_samples)\n",
        "test_df = pd.DataFrame(test_samples)\n",
        "train_df.head(12)"
      ],
      "metadata": {
        "colab": {
          "base_uri": "https://localhost:8080/",
          "height": 426
        },
        "id": "4bpHOmp3MyoQ",
        "outputId": "db2850d9-2876-4b62-8dcc-af6230796dc2"
      },
      "execution_count": 97,
      "outputs": [
        {
          "output_type": "execute_result",
          "data": {
            "text/plain": [
              "         target                                               text  \\\n",
              "0     OBJECTIVE  to investigate the efficacy of @ weeks of dail...   \n",
              "1       METHODS  a total of @ patients with primary knee oa wer...   \n",
              "2       METHODS  outcome measures included pain reduction and i...   \n",
              "3       METHODS  pain was assessed using the visual analog pain...   \n",
              "4       METHODS  secondary outcome measures included the wester...   \n",
              "5       METHODS  serum levels of interleukin @ ( il-@ ) , il-@ ...   \n",
              "6       RESULTS  there was a clinically relevant reduction in t...   \n",
              "7       RESULTS  the mean difference between treatment arms ( @...   \n",
              "8       RESULTS  further , there was a clinically relevant redu...   \n",
              "9       RESULTS  these differences remained significant at @ we...   \n",
              "10      RESULTS  the outcome measures in rheumatology clinical ...   \n",
              "11  CONCLUSIONS  low-dose oral prednisolone had both a short-te...   \n",
              "\n",
              "    line_number  total_lines  \n",
              "0             0           11  \n",
              "1             1           11  \n",
              "2             2           11  \n",
              "3             3           11  \n",
              "4             4           11  \n",
              "5             5           11  \n",
              "6             6           11  \n",
              "7             7           11  \n",
              "8             8           11  \n",
              "9             9           11  \n",
              "10           10           11  \n",
              "11           11           11  "
            ],
            "text/html": [
              "\n",
              "  <div id=\"df-3b12c80b-fc44-431b-b689-fdc22dba91b2\">\n",
              "    <div class=\"colab-df-container\">\n",
              "      <div>\n",
              "<style scoped>\n",
              "    .dataframe tbody tr th:only-of-type {\n",
              "        vertical-align: middle;\n",
              "    }\n",
              "\n",
              "    .dataframe tbody tr th {\n",
              "        vertical-align: top;\n",
              "    }\n",
              "\n",
              "    .dataframe thead th {\n",
              "        text-align: right;\n",
              "    }\n",
              "</style>\n",
              "<table border=\"1\" class=\"dataframe\">\n",
              "  <thead>\n",
              "    <tr style=\"text-align: right;\">\n",
              "      <th></th>\n",
              "      <th>target</th>\n",
              "      <th>text</th>\n",
              "      <th>line_number</th>\n",
              "      <th>total_lines</th>\n",
              "    </tr>\n",
              "  </thead>\n",
              "  <tbody>\n",
              "    <tr>\n",
              "      <th>0</th>\n",
              "      <td>OBJECTIVE</td>\n",
              "      <td>to investigate the efficacy of @ weeks of dail...</td>\n",
              "      <td>0</td>\n",
              "      <td>11</td>\n",
              "    </tr>\n",
              "    <tr>\n",
              "      <th>1</th>\n",
              "      <td>METHODS</td>\n",
              "      <td>a total of @ patients with primary knee oa wer...</td>\n",
              "      <td>1</td>\n",
              "      <td>11</td>\n",
              "    </tr>\n",
              "    <tr>\n",
              "      <th>2</th>\n",
              "      <td>METHODS</td>\n",
              "      <td>outcome measures included pain reduction and i...</td>\n",
              "      <td>2</td>\n",
              "      <td>11</td>\n",
              "    </tr>\n",
              "    <tr>\n",
              "      <th>3</th>\n",
              "      <td>METHODS</td>\n",
              "      <td>pain was assessed using the visual analog pain...</td>\n",
              "      <td>3</td>\n",
              "      <td>11</td>\n",
              "    </tr>\n",
              "    <tr>\n",
              "      <th>4</th>\n",
              "      <td>METHODS</td>\n",
              "      <td>secondary outcome measures included the wester...</td>\n",
              "      <td>4</td>\n",
              "      <td>11</td>\n",
              "    </tr>\n",
              "    <tr>\n",
              "      <th>5</th>\n",
              "      <td>METHODS</td>\n",
              "      <td>serum levels of interleukin @ ( il-@ ) , il-@ ...</td>\n",
              "      <td>5</td>\n",
              "      <td>11</td>\n",
              "    </tr>\n",
              "    <tr>\n",
              "      <th>6</th>\n",
              "      <td>RESULTS</td>\n",
              "      <td>there was a clinically relevant reduction in t...</td>\n",
              "      <td>6</td>\n",
              "      <td>11</td>\n",
              "    </tr>\n",
              "    <tr>\n",
              "      <th>7</th>\n",
              "      <td>RESULTS</td>\n",
              "      <td>the mean difference between treatment arms ( @...</td>\n",
              "      <td>7</td>\n",
              "      <td>11</td>\n",
              "    </tr>\n",
              "    <tr>\n",
              "      <th>8</th>\n",
              "      <td>RESULTS</td>\n",
              "      <td>further , there was a clinically relevant redu...</td>\n",
              "      <td>8</td>\n",
              "      <td>11</td>\n",
              "    </tr>\n",
              "    <tr>\n",
              "      <th>9</th>\n",
              "      <td>RESULTS</td>\n",
              "      <td>these differences remained significant at @ we...</td>\n",
              "      <td>9</td>\n",
              "      <td>11</td>\n",
              "    </tr>\n",
              "    <tr>\n",
              "      <th>10</th>\n",
              "      <td>RESULTS</td>\n",
              "      <td>the outcome measures in rheumatology clinical ...</td>\n",
              "      <td>10</td>\n",
              "      <td>11</td>\n",
              "    </tr>\n",
              "    <tr>\n",
              "      <th>11</th>\n",
              "      <td>CONCLUSIONS</td>\n",
              "      <td>low-dose oral prednisolone had both a short-te...</td>\n",
              "      <td>11</td>\n",
              "      <td>11</td>\n",
              "    </tr>\n",
              "  </tbody>\n",
              "</table>\n",
              "</div>\n",
              "      <button class=\"colab-df-convert\" onclick=\"convertToInteractive('df-3b12c80b-fc44-431b-b689-fdc22dba91b2')\"\n",
              "              title=\"Convert this dataframe to an interactive table.\"\n",
              "              style=\"display:none;\">\n",
              "        \n",
              "  <svg xmlns=\"http://www.w3.org/2000/svg\" height=\"24px\"viewBox=\"0 0 24 24\"\n",
              "       width=\"24px\">\n",
              "    <path d=\"M0 0h24v24H0V0z\" fill=\"none\"/>\n",
              "    <path d=\"M18.56 5.44l.94 2.06.94-2.06 2.06-.94-2.06-.94-.94-2.06-.94 2.06-2.06.94zm-11 1L8.5 8.5l.94-2.06 2.06-.94-2.06-.94L8.5 2.5l-.94 2.06-2.06.94zm10 10l.94 2.06.94-2.06 2.06-.94-2.06-.94-.94-2.06-.94 2.06-2.06.94z\"/><path d=\"M17.41 7.96l-1.37-1.37c-.4-.4-.92-.59-1.43-.59-.52 0-1.04.2-1.43.59L10.3 9.45l-7.72 7.72c-.78.78-.78 2.05 0 2.83L4 21.41c.39.39.9.59 1.41.59.51 0 1.02-.2 1.41-.59l7.78-7.78 2.81-2.81c.8-.78.8-2.07 0-2.86zM5.41 20L4 18.59l7.72-7.72 1.47 1.35L5.41 20z\"/>\n",
              "  </svg>\n",
              "      </button>\n",
              "      \n",
              "  <style>\n",
              "    .colab-df-container {\n",
              "      display:flex;\n",
              "      flex-wrap:wrap;\n",
              "      gap: 12px;\n",
              "    }\n",
              "\n",
              "    .colab-df-convert {\n",
              "      background-color: #E8F0FE;\n",
              "      border: none;\n",
              "      border-radius: 50%;\n",
              "      cursor: pointer;\n",
              "      display: none;\n",
              "      fill: #1967D2;\n",
              "      height: 32px;\n",
              "      padding: 0 0 0 0;\n",
              "      width: 32px;\n",
              "    }\n",
              "\n",
              "    .colab-df-convert:hover {\n",
              "      background-color: #E2EBFA;\n",
              "      box-shadow: 0px 1px 2px rgba(60, 64, 67, 0.3), 0px 1px 3px 1px rgba(60, 64, 67, 0.15);\n",
              "      fill: #174EA6;\n",
              "    }\n",
              "\n",
              "    [theme=dark] .colab-df-convert {\n",
              "      background-color: #3B4455;\n",
              "      fill: #D2E3FC;\n",
              "    }\n",
              "\n",
              "    [theme=dark] .colab-df-convert:hover {\n",
              "      background-color: #434B5C;\n",
              "      box-shadow: 0px 1px 3px 1px rgba(0, 0, 0, 0.15);\n",
              "      filter: drop-shadow(0px 1px 2px rgba(0, 0, 0, 0.3));\n",
              "      fill: #FFFFFF;\n",
              "    }\n",
              "  </style>\n",
              "\n",
              "      <script>\n",
              "        const buttonEl =\n",
              "          document.querySelector('#df-3b12c80b-fc44-431b-b689-fdc22dba91b2 button.colab-df-convert');\n",
              "        buttonEl.style.display =\n",
              "          google.colab.kernel.accessAllowed ? 'block' : 'none';\n",
              "\n",
              "        async function convertToInteractive(key) {\n",
              "          const element = document.querySelector('#df-3b12c80b-fc44-431b-b689-fdc22dba91b2');\n",
              "          const dataTable =\n",
              "            await google.colab.kernel.invokeFunction('convertToInteractive',\n",
              "                                                     [key], {});\n",
              "          if (!dataTable) return;\n",
              "\n",
              "          const docLinkHtml = 'Like what you see? Visit the ' +\n",
              "            '<a target=\"_blank\" href=https://colab.research.google.com/notebooks/data_table.ipynb>data table notebook</a>'\n",
              "            + ' to learn more about interactive tables.';\n",
              "          element.innerHTML = '';\n",
              "          dataTable['output_type'] = 'display_data';\n",
              "          await google.colab.output.renderOutput(dataTable, element);\n",
              "          const docLink = document.createElement('div');\n",
              "          docLink.innerHTML = docLinkHtml;\n",
              "          element.appendChild(docLink);\n",
              "        }\n",
              "      </script>\n",
              "    </div>\n",
              "  </div>\n",
              "  "
            ]
          },
          "metadata": {},
          "execution_count": 97
        }
      ]
    },
    {
      "cell_type": "code",
      "source": [
        "# Hangi labellardan ne kadar var ona bakalım.\n",
        "train_df[\"target\"].value_counts()"
      ],
      "metadata": {
        "colab": {
          "base_uri": "https://localhost:8080/"
        },
        "id": "OC4K9PyxNBKt",
        "outputId": "ea44ad8e-c3c2-4a7c-a7eb-eb8556fe943c"
      },
      "execution_count": 98,
      "outputs": [
        {
          "output_type": "execute_result",
          "data": {
            "text/plain": [
              "METHODS        59353\n",
              "RESULTS        57953\n",
              "CONCLUSIONS    27168\n",
              "BACKGROUND     21727\n",
              "OBJECTIVE      13839\n",
              "Name: target, dtype: int64"
            ]
          },
          "metadata": {},
          "execution_count": 98
        }
      ]
    },
    {
      "cell_type": "code",
      "source": [
        "# Cümle sayısı dağılımına bakalım.\n",
        "train_df[\"total_lines\"].value_counts()"
      ],
      "metadata": {
        "colab": {
          "base_uri": "https://localhost:8080/"
        },
        "id": "1o9Xsm7vNBMd",
        "outputId": "dab78c7f-8088-4df4-b491-f4b5a581f132"
      },
      "execution_count": 99,
      "outputs": [
        {
          "output_type": "execute_result",
          "data": {
            "text/plain": [
              "11    24468\n",
              "10    23639\n",
              "12    22113\n",
              "9     19400\n",
              "13    18438\n",
              "14    14610\n",
              "8     12285\n",
              "15    10768\n",
              "7      7464\n",
              "16     7429\n",
              "17     5202\n",
              "6      3353\n",
              "18     3344\n",
              "19     2480\n",
              "20     1281\n",
              "5      1146\n",
              "21      770\n",
              "22      759\n",
              "23      264\n",
              "4       215\n",
              "24      200\n",
              "25      182\n",
              "26       81\n",
              "28       58\n",
              "3        32\n",
              "30       31\n",
              "27       28\n",
              "Name: total_lines, dtype: int64"
            ]
          },
          "metadata": {},
          "execution_count": 99
        }
      ]
    },
    {
      "cell_type": "code",
      "source": [
        "# Verilerimizin text kısmını alalım ve listeye çevirelim\n",
        "\n",
        "train_sentences = train_df[\"text\"].tolist()\n",
        "val_sentences = val_df[\"text\"].tolist()\n",
        "test_sentences = test_df[\"text\"].tolist()\n",
        "\n",
        "len(train_sentences), len(test_sentences), len(val_sentences)"
      ],
      "metadata": {
        "colab": {
          "base_uri": "https://localhost:8080/"
        },
        "id": "yeXBUxwuNBOF",
        "outputId": "19c0ddf2-6e90-448b-ebe0-8adf66322839"
      },
      "execution_count": 100,
      "outputs": [
        {
          "output_type": "execute_result",
          "data": {
            "text/plain": [
              "(180040, 30135, 30212)"
            ]
          },
          "metadata": {},
          "execution_count": 100
        }
      ]
    },
    {
      "cell_type": "code",
      "source": [
        "# Şimdi labellarımızı işlem yapabilmek için one-hot encodelayalım.\n",
        "\n",
        "from sklearn.preprocessing import OneHotEncoder\n",
        "one_hot_encoder = OneHotEncoder(sparse=False)\n",
        "\n",
        "train_labels_one_hot = one_hot_encoder.fit_transform(train_df[\"target\"].to_numpy().reshape(-1,1))\n",
        "val_labels_one_hot = one_hot_encoder.transform(val_df[\"target\"].to_numpy().reshape(-1, 1))\n",
        "test_labels_one_hot = one_hot_encoder.transform(test_df[\"target\"].to_numpy().reshape(-1,1))"
      ],
      "metadata": {
        "colab": {
          "base_uri": "https://localhost:8080/"
        },
        "id": "3VLiEx6vNBP-",
        "outputId": "b7e6bdc1-c19c-413f-b2f8-641054fe3c93"
      },
      "execution_count": 101,
      "outputs": [
        {
          "output_type": "stream",
          "name": "stderr",
          "text": [
            "/usr/local/lib/python3.10/dist-packages/sklearn/preprocessing/_encoders.py:868: FutureWarning: `sparse` was renamed to `sparse_output` in version 1.2 and will be removed in 1.4. `sparse_output` is ignored unless you leave `sparse` to its default value.\n",
            "  warnings.warn(\n"
          ]
        }
      ]
    },
    {
      "cell_type": "code",
      "source": [
        "# Şimdi ise pretrained olan embedding layer'ı oluşturalım bunun için universal-sentence-encoder(USE) modelini kullanacağız.\n",
        "import tensorflow_hub as hub\n",
        "tf_hub_embedding_layer = hub.KerasLayer(\"https://tfhub.dev/google/universal-sentence-encoder/4\",\n",
        "                                        trainable=False,\n",
        "                                        name=\"universal_sentence_encoder\")"
      ],
      "metadata": {
        "id": "4VIoXlaCov-s"
      },
      "execution_count": 102,
      "outputs": []
    },
    {
      "cell_type": "code",
      "source": [
        "# Rastgele bir cümleye ve cümlenin embedding edilmiş haline bakalım\n",
        "import random\n",
        "random_train_sentence = random.choice(train_sentences)\n",
        "print(f\"Random sentence:\\n{random_train_sentence}\")\n",
        "use_embedded_sentence = tf_hub_embedding_layer([random_train_sentence])\n",
        "print(f\"Embedded sentence:\\n{use_embedded_sentence}\")"
      ],
      "metadata": {
        "colab": {
          "base_uri": "https://localhost:8080/"
        },
        "id": "Zd39PD2hpI_-",
        "outputId": "0a78152b-ed67-4fbb-e91c-d873bca6c71e"
      },
      "execution_count": 103,
      "outputs": [
        {
          "output_type": "stream",
          "name": "stdout",
          "text": [
            "Random sentence:\n",
            "the continuous infusion arm had a greater reduction in bnp over the hospital course , ( -@ @ versus -@ @ pg/ml p = @ ) .\n",
            "Embedded sentence:\n",
            "[[-0.03974866 -0.03582202  0.01795535 -0.06212832 -0.04652265  0.04690869\n",
            "   0.02811725 -0.03128568  0.07049067 -0.0044055   0.09080656  0.0543962\n",
            "   0.0250766  -0.00266877  0.03143524 -0.05662567 -0.08746406 -0.01179072\n",
            "   0.02157349 -0.00818647  0.06157339  0.06544899 -0.02736854 -0.07458206\n",
            "  -0.02634914  0.01652463 -0.04296027 -0.02147532 -0.05579996 -0.00375862\n",
            "   0.04994873  0.09239149  0.03055449 -0.07197479 -0.02043013  0.01141405\n",
            "   0.00700919  0.02484487 -0.07347038 -0.00359356  0.04535966  0.03337784\n",
            "  -0.01170001  0.02924598  0.01785416  0.01622536  0.01226483  0.06400326\n",
            "  -0.07165068  0.04581199 -0.03217793  0.01982397  0.02550727  0.02423852\n",
            "   0.01092992  0.04138428 -0.03147275 -0.09054489 -0.01159341 -0.07893281\n",
            "  -0.03147742  0.08198345  0.05259802 -0.0004246  -0.0113003   0.03425997\n",
            "   0.02832288 -0.03705887  0.0288764  -0.03665531  0.01337456  0.02218142\n",
            "   0.05366302  0.02468624 -0.03338127  0.05636162  0.07063374  0.01597111\n",
            "  -0.0345715   0.05858091 -0.06654764  0.0137569  -0.01565201  0.01235034\n",
            "   0.03765092 -0.01122999  0.0135818   0.08468892  0.01344512  0.00414476\n",
            "   0.02319215  0.0475811  -0.05598139 -0.04896341 -0.06286711  0.0668625\n",
            "   0.00437403 -0.01450862 -0.02026663  0.0163523   0.05458607 -0.04852412\n",
            "   0.05955153 -0.02151936  0.03084948 -0.09101208  0.0263401   0.05696744\n",
            "   0.03299105  0.03489405  0.00533608  0.00196324 -0.03919478  0.0248699\n",
            "   0.06018919  0.02701406  0.07001024 -0.07474714  0.04781918  0.03513922\n",
            "  -0.07909743  0.01378998 -0.04837785  0.05995705 -0.00821115 -0.09147395\n",
            "  -0.03732044  0.02385344 -0.03906367 -0.03454664 -0.02414767  0.08614816\n",
            "   0.05591872 -0.06549446 -0.04145323  0.06401367  0.05431049 -0.03000307\n",
            "   0.02377792  0.07850563 -0.01749581  0.05262088 -0.06539838 -0.01249273\n",
            "   0.00077395  0.02304327  0.00110997 -0.09234513  0.00215913 -0.06279473\n",
            "   0.0015841  -0.03374213 -0.03053719 -0.06836557  0.03105005 -0.00534437\n",
            "   0.01231525  0.0299188   0.04344257  0.05760226  0.06603822  0.02497118\n",
            "   0.00201968  0.03232756 -0.03138415  0.04514421  0.00346295 -0.02222677\n",
            "   0.05660491 -0.01330793 -0.03152776 -0.07265041 -0.0674899   0.05088597\n",
            "  -0.05578496  0.02966077 -0.05152931  0.06955254 -0.03705127  0.01409981\n",
            "   0.00660041 -0.03772072 -0.04972301  0.02769518 -0.01293003  0.0627549\n",
            "  -0.03055155 -0.02375247  0.01056882 -0.01066729  0.00854649 -0.06033779\n",
            "  -0.03465698  0.03224377 -0.03629941  0.06315592 -0.07595579 -0.02637817\n",
            "   0.00716392 -0.03903346 -0.08537763 -0.08318603 -0.03135957 -0.01070797\n",
            "  -0.04602857  0.0306405  -0.00947141 -0.03312216 -0.02962943  0.04736606\n",
            "   0.00106086 -0.04364024  0.04464571 -0.01545045 -0.01507214  0.01779921\n",
            "   0.01987349 -0.0293751   0.03734168  0.08585441  0.03211923  0.08093097\n",
            "  -0.01062277  0.04813214 -0.01301966  0.06299916 -0.03224221 -0.00148043\n",
            "   0.00804461 -0.01892726 -0.06595545 -0.01796629  0.00229113 -0.049064\n",
            "   0.01220849  0.00546416 -0.03572021 -0.04589825 -0.05645682  0.02574108\n",
            "  -0.03292666 -0.06455269 -0.08352394 -0.03604013  0.04174417 -0.06203744\n",
            "  -0.0616507  -0.03433749 -0.02243547 -0.04499051  0.0104046   0.05940862\n",
            "   0.03260037 -0.02728251  0.06194749  0.01145137 -0.0019393   0.06395409\n",
            "   0.03744183  0.0694143  -0.07266486 -0.00484991  0.03388689 -0.01104154\n",
            "  -0.04761581 -0.00369608 -0.03578574  0.06204997  0.06354033  0.00473657\n",
            "  -0.05483736  0.02376558 -0.03540759  0.03107002  0.01559029 -0.01391331\n",
            "  -0.0633553  -0.02835024 -0.04559173 -0.0373978   0.0531591   0.06775697\n",
            "   0.05248459 -0.00567961 -0.08420042 -0.00108752 -0.05555019 -0.03187535\n",
            "   0.06512254  0.00756511  0.06172064  0.02703124 -0.02200928 -0.05750997\n",
            "   0.01191073 -0.0420263   0.02960272 -0.02645879  0.05896519 -0.00484334\n",
            "  -0.07564026 -0.0744248  -0.05276076 -0.00346619 -0.06669073  0.05228801\n",
            "  -0.01646089  0.03638584  0.01514493 -0.06784733 -0.04761043  0.00134114\n",
            "  -0.0507188  -0.05764534 -0.0233231   0.05931383 -0.03103928  0.01018686\n",
            "  -0.02209285  0.01795947 -0.04172141  0.00382314  0.02486247 -0.02389134\n",
            "  -0.0735653   0.02348638  0.0136115  -0.06302933 -0.03448032 -0.00244746\n",
            "   0.04924808 -0.03130164  0.00979254  0.07661979  0.00069287  0.02757791\n",
            "  -0.00998951 -0.07996497 -0.06056094 -0.03742165 -0.05134232  0.00982354\n",
            "   0.04405139 -0.00793759 -0.00079604 -0.0417821  -0.06448891  0.00708722\n",
            "   0.04914479 -0.03290005 -0.0240152   0.02100881 -0.0635757  -0.02234323\n",
            "   0.01145578 -0.02907282 -0.06850865 -0.02982105  0.01519139 -0.05310545\n",
            "   0.01799016  0.02505694 -0.04677175 -0.02606825 -0.01707142  0.05079062\n",
            "   0.00101952 -0.00617873 -0.01682261 -0.04293345 -0.02961434 -0.01489876\n",
            "   0.03820244 -0.06617559  0.02923822  0.01096525  0.00281598 -0.03988777\n",
            "   0.07534602 -0.06579725 -0.06028704 -0.03524604  0.00902979  0.02103662\n",
            "   0.03434183  0.04938816  0.02978669 -0.0144247  -0.01465357  0.01796567\n",
            "  -0.00130275  0.03945272  0.0524264  -0.00826901 -0.01480703 -0.07909977\n",
            "   0.07626142 -0.05522821  0.01943517 -0.06495061  0.06271075 -0.02756179\n",
            "   0.07052007 -0.04896348 -0.00376175  0.03386493 -0.01100188 -0.07030766\n",
            "   0.00496395  0.0050651   0.01223239  0.00357096  0.06096843  0.08070081\n",
            "   0.04997237  0.00843882  0.04338543  0.03577859 -0.0194534  -0.0543943\n",
            "  -0.06633131 -0.0573008  -0.06104527  0.0234031  -0.00455792  0.00100409\n",
            "  -0.04392875  0.00105755 -0.00074786 -0.0263539   0.06377842 -0.01598342\n",
            "   0.00180676  0.01703664  0.00544974  0.0498993  -0.04979601 -0.02605612\n",
            "   0.0596113  -0.04277413 -0.06042079  0.04082787 -0.00532662  0.02033727\n",
            "   0.06759444  0.0804114   0.03268293 -0.04263382 -0.02054554  0.07278659\n",
            "   0.05166785 -0.06649627 -0.02934576  0.06201622  0.07062332 -0.03878828\n",
            "  -0.02827249  0.06729357  0.04820617 -0.02377297  0.05028332 -0.03799038\n",
            "   0.04398053  0.05455959  0.01501353 -0.02328289 -0.058833   -0.08156357\n",
            "   0.02373958 -0.0286795  -0.0278894   0.03007806 -0.04469564 -0.00999545\n",
            "   0.01206374 -0.04583033 -0.02794256 -0.00097432  0.06379581 -0.07046551\n",
            "  -0.06581607  0.00519988  0.05412693 -0.04583777  0.05925264 -0.07388998\n",
            "  -0.06959729 -0.04977577  0.00947593 -0.07384607 -0.02236421  0.08382015\n",
            "   0.03816046 -0.03167112  0.0310735  -0.06108393  0.07826511 -0.0383109\n",
            "   0.04365375  0.072565    0.06503312  0.03592076  0.04639284  0.01798522\n",
            "  -0.04236146 -0.09310614  0.02422147 -0.02785865  0.04978659  0.01882647\n",
            "  -0.04194768  0.06363079]]\n"
          ]
        }
      ]
    },
    {
      "cell_type": "code",
      "source": [
        "# Kelimeleri embedding etme kısmı bitti şimdi ise makalede olduğu gibi character embedding layer'ını oluşturalım\n",
        "def split_characters(text):\n",
        "  return \" \".join(list(text))\n",
        "\n",
        "print(random_train_sentence)\n",
        "print(split_characters(random_train_sentence))\n",
        "\n",
        "train_chars = [split_characters(sentence) for sentence in train_sentences]\n",
        "val_chars = [split_characters(sentence) for sentence in val_sentences]\n",
        "test_chars = [split_characters(sentence) for sentence in test_sentences]\n",
        "\n",
        "train_chars[:1]"
      ],
      "metadata": {
        "colab": {
          "base_uri": "https://localhost:8080/"
        },
        "id": "aDtqh32WnKFt",
        "outputId": "a452bd32-a7c5-46a5-92c2-5f8fb3e2ed5b"
      },
      "execution_count": 104,
      "outputs": [
        {
          "output_type": "stream",
          "name": "stdout",
          "text": [
            "the continuous infusion arm had a greater reduction in bnp over the hospital course , ( -@ @ versus -@ @ pg/ml p = @ ) .\n",
            "t h e   c o n t i n u o u s   i n f u s i o n   a r m   h a d   a   g r e a t e r   r e d u c t i o n   i n   b n p   o v e r   t h e   h o s p i t a l   c o u r s e   ,   (   - @   @   v e r s u s   - @   @   p g / m l   p   =   @   )   .\n"
          ]
        },
        {
          "output_type": "execute_result",
          "data": {
            "text/plain": [
              "['t o   i n v e s t i g a t e   t h e   e f f i c a c y   o f   @   w e e k s   o f   d a i l y   l o w - d o s e   o r a l   p r e d n i s o l o n e   i n   i m p r o v i n g   p a i n   ,   m o b i l i t y   ,   a n d   s y s t e m i c   l o w - g r a d e   i n f l a m m a t i o n   i n   t h e   s h o r t   t e r m   a n d   w h e t h e r   t h e   e f f e c t   w o u l d   b e   s u s t a i n e d   a t   @   w e e k s   i n   o l d e r   a d u l t s   w i t h   m o d e r a t e   t o   s e v e r e   k n e e   o s t e o a r t h r i t i s   (   o a   )   .']"
            ]
          },
          "metadata": {},
          "execution_count": 104
        }
      ]
    },
    {
      "cell_type": "code",
      "source": [
        "# Şimdi ise character embedding layer'ımızı oluşturalım öncelikle output_sequence_length değişkenine vereceğimiz değeri bulmak için verilerimizin %99'unu kaplayacak değeri bulalım\n",
        "chars_len = [len(sentence) for sentence in train_sentences]\n",
        "import matplotlib.pyplot as plt\n",
        "plt.hist(chars_len, bins=40)"
      ],
      "metadata": {
        "colab": {
          "base_uri": "https://localhost:8080/",
          "height": 777
        },
        "id": "8aP-RnXynKHw",
        "outputId": "51098a09-812a-40ef-f735-9f6b53ca7310"
      },
      "execution_count": 105,
      "outputs": [
        {
          "output_type": "execute_result",
          "data": {
            "text/plain": [
              "(array([3.6010e+03, 1.8507e+04, 3.2553e+04, 3.8030e+04, 3.2045e+04,\n",
              "        2.1907e+04, 1.4198e+04, 8.1930e+03, 4.7480e+03, 2.7060e+03,\n",
              "        1.3630e+03, 8.7200e+02, 5.1900e+02, 2.8300e+02, 1.8300e+02,\n",
              "        1.0400e+02, 6.7000e+01, 5.1000e+01, 3.3000e+01, 1.6000e+01,\n",
              "        1.4000e+01, 1.5000e+01, 5.0000e+00, 8.0000e+00, 4.0000e+00,\n",
              "        4.0000e+00, 3.0000e+00, 2.0000e+00, 1.0000e+00, 0.0000e+00,\n",
              "        2.0000e+00, 0.0000e+00, 1.0000e+00, 0.0000e+00, 1.0000e+00,\n",
              "        0.0000e+00, 0.0000e+00, 0.0000e+00, 0.0000e+00, 1.0000e+00]),\n",
              " array([1.000000e+00, 3.562500e+01, 7.025000e+01, 1.048750e+02,\n",
              "        1.395000e+02, 1.741250e+02, 2.087500e+02, 2.433750e+02,\n",
              "        2.780000e+02, 3.126250e+02, 3.472500e+02, 3.818750e+02,\n",
              "        4.165000e+02, 4.511250e+02, 4.857500e+02, 5.203750e+02,\n",
              "        5.550000e+02, 5.896250e+02, 6.242500e+02, 6.588750e+02,\n",
              "        6.935000e+02, 7.281250e+02, 7.627500e+02, 7.973750e+02,\n",
              "        8.320000e+02, 8.666250e+02, 9.012500e+02, 9.358750e+02,\n",
              "        9.705000e+02, 1.005125e+03, 1.039750e+03, 1.074375e+03,\n",
              "        1.109000e+03, 1.143625e+03, 1.178250e+03, 1.212875e+03,\n",
              "        1.247500e+03, 1.282125e+03, 1.316750e+03, 1.351375e+03,\n",
              "        1.386000e+03]),\n",
              " <BarContainer object of 40 artists>)"
            ]
          },
          "metadata": {},
          "execution_count": 105
        },
        {
          "output_type": "display_data",
          "data": {
            "text/plain": [
              "<Figure size 640x480 with 1 Axes>"
            ],
            "image/png": "[encoded data removed]"
          },
          "metadata": {}
        }
      ]
    },
    {
      "cell_type": "code",
      "source": [
        "import numpy as np\n",
        "characters_output_sequence_length = int(np.percentile(chars_len, 99))\n",
        "characters_output_sequence_length"
      ],
      "metadata": {
        "colab": {
          "base_uri": "https://localhost:8080/"
        },
        "id": "dCrfVXVhr2fG",
        "outputId": "db1724a4-f450-472a-8b9e-322425cdf536"
      },
      "execution_count": 106,
      "outputs": [
        {
          "output_type": "execute_result",
          "data": {
            "text/plain": [
              "395"
            ]
          },
          "metadata": {},
          "execution_count": 106
        }
      ]
    },
    {
      "cell_type": "code",
      "source": [
        "# character embedding layer'ı için tüm karakterleri alalım\n",
        "import string\n",
        "alphabet = string.ascii_lowercase + string.digits + string.punctuation\n",
        "alphabet"
      ],
      "metadata": {
        "colab": {
          "base_uri": "https://localhost:8080/",
          "height": 35
        },
        "id": "ma4hZeqor8Wq",
        "outputId": "5574ac62-0fc7-47f2-f112-1d768731afa6"
      },
      "execution_count": 107,
      "outputs": [
        {
          "output_type": "execute_result",
          "data": {
            "text/plain": [
              "'abcdefghijklmnopqrstuvwxyz0123456789!\"#$%&\\'()*+,-./:;<=>?@[\\\\]^_`{|}~'"
            ],
            "application/vnd.google.colaboratory.intrinsic+json": {
              "type": "string"
            }
          },
          "metadata": {},
          "execution_count": 107
        }
      ]
    },
    {
      "cell_type": "code",
      "source": [
        "# Şimdi ise tokenizer'ı oluşturalım\n",
        "from tensorflow.keras.layers.experimental.preprocessing import TextVectorization\n",
        "NUM_CHAR_TOKENS = len(alphabet) + 2 # +2 ekledik çünkü boşluk karakteri ve OOV(out of vocabulary) karakterleri yok\n",
        "char_vectorizer = TextVectorization(max_tokens=NUM_CHAR_TOKENS,  \n",
        "                                    output_sequence_length=characters_output_sequence_length,\n",
        "                                    standardize=\"lower_and_strip_punctuation\",\n",
        "                                    name=\"char_vectorizer\")\n",
        "char_vectorizer.adapt(train_chars)"
      ],
      "metadata": {
        "id": "VJvRKuF3sJpN"
      },
      "execution_count": 108,
      "outputs": []
    },
    {
      "cell_type": "code",
      "source": [
        "# Oluşan token sözlüğünü inceleyelim\n",
        "char_vocab = char_vectorizer.get_vocabulary()\n",
        "print(f\"Number of different characters in character vocab: {len(char_vocab)}\")\n",
        "print(f\"5 most common characters: {char_vocab[:5]}\")\n",
        "print(f\"5 least common characters: {char_vocab[-5:]}\")"
      ],
      "metadata": {
        "colab": {
          "base_uri": "https://localhost:8080/"
        },
        "id": "D46bYX8ksgbz",
        "outputId": "3e027cb8-ff05-432f-b9e3-93cd4a823286"
      },
      "execution_count": 109,
      "outputs": [
        {
          "output_type": "stream",
          "name": "stdout",
          "text": [
            "Number of different characters in character vocab: 28\n",
            "5 most common characters: ['', '[UNK]', 'e', 't', 'i']\n",
            "5 least common characters: ['k', 'x', 'z', 'q', 'j']\n"
          ]
        }
      ]
    },
    {
      "cell_type": "code",
      "source": [
        "# Şimdi ise bir örneği inceleyelim\n",
        "random_train_chars = random.choice(train_chars)\n",
        "print(f\"Charified text:\\n{random_train_chars}\")\n",
        "print(f\"\\nLength of chars: {len(random_train_chars.split())}\")\n",
        "vectorized_chars = char_vectorizer([random_train_chars])\n",
        "print(f\"\\nVectorized chars:\\n{vectorized_chars}\")\n",
        "print(f\"\\nLength of vectorized chars: {len(vectorized_chars[0])}\")"
      ],
      "metadata": {
        "colab": {
          "base_uri": "https://localhost:8080/"
        },
        "id": "f7_g4PP6s75y",
        "outputId": "382bb701-63ed-46a7-facf-c9d4b01a2eb3"
      },
      "execution_count": 110,
      "outputs": [
        {
          "output_type": "stream",
          "name": "stdout",
          "text": [
            "Charified text:\n",
            "t h e   t o t a l   e f f e c t i v e   r a t e s   o f   c h i n e s e   m e d i c a l   s y m p t o m   i n t e g r a l s   a n d   t c s s   s c o r e   w e r e   o b v i o u s l y   h i g h e r   i n   t h e   t r e a t m e n t   g r o u p   t h a n   i n   t h e   c o n t r o l   g r o u p   (   p   <   @   )   .\n",
            "\n",
            "Length of chars: 131\n",
            "\n",
            "Vectorized chars:\n",
            "[[ 3 13  2  3  7  3  5 12  2 17 17  2 11  3  4 21  2  8  5  3  2  9  7 17\n",
            "  11 13  4  6  2  9  2 15  2 10  4 11  5 12  9 19 15 14  3  7 15  4  6  3\n",
            "   2 18  8  5 12  9  5  6 10  3 11  9  9  9 11  7  8  2 20  2  8  2  7 22\n",
            "  21  4  7 16  9 12 19 13  4 18 13  2  8  4  6  3 13  2  3  8  2  5  3 15\n",
            "   2  6  3 18  8  7 16 14  3 13  5  6  4  6  3 13  2 11  7  6  3  8  7 12\n",
            "  18  8  7 16 14 14  0  0  0  0  0  0  0  0  0  0  0  0  0  0  0  0  0  0\n",
            "   0  0  0  0  0  0  0  0  0  0  0  0  0  0  0  0  0  0  0  0  0  0  0  0\n",
            "   0  0  0  0  0  0  0  0  0  0  0  0  0  0  0  0  0  0  0  0  0  0  0  0\n",
            "   0  0  0  0  0  0  0  0  0  0  0  0  0  0  0  0  0  0  0  0  0  0  0  0\n",
            "   0  0  0  0  0  0  0  0  0  0  0  0  0  0  0  0  0  0  0  0  0  0  0  0\n",
            "   0  0  0  0  0  0  0  0  0  0  0  0  0  0  0  0  0  0  0  0  0  0  0  0\n",
            "   0  0  0  0  0  0  0  0  0  0  0  0  0  0  0  0  0  0  0  0  0  0  0  0\n",
            "   0  0  0  0  0  0  0  0  0  0  0  0  0  0  0  0  0  0  0  0  0  0  0  0\n",
            "   0  0  0  0  0  0  0  0  0  0  0  0  0  0  0  0  0  0  0  0  0  0  0  0\n",
            "   0  0  0  0  0  0  0  0  0  0  0  0  0  0  0  0  0  0  0  0  0  0  0  0\n",
            "   0  0  0  0  0  0  0  0  0  0  0  0  0  0  0  0  0  0  0  0  0  0  0  0\n",
            "   0  0  0  0  0  0  0  0  0  0  0]]\n",
            "\n",
            "Length of vectorized chars: 395\n"
          ]
        }
      ]
    },
    {
      "cell_type": "code",
      "source": [
        "# Embedding layer'ı hazırlayalım\n",
        "from tensorflow.keras import layers\n",
        "char_embed = layers.Embedding(input_dim=NUM_CHAR_TOKENS,\n",
        "                              output_dim=25,\n",
        "                              mask_zero=False,\n",
        "                              name=\"char_embed\")"
      ],
      "metadata": {
        "id": "1VBqstbrtDQI"
      },
      "execution_count": 111,
      "outputs": []
    },
    {
      "cell_type": "code",
      "source": [
        "# Örnek cümleye bakalım\n",
        "print(f\"Charified text(before vectorization and embedding):\\n{random_train_chars}\\n\")\n",
        "char_embed_example = char_embed(char_vectorizer([random_train_chars]))\n",
        "print(f\"Embedded chars (after vectorizationand embedding):\\n{char_embed_example}\\n\")\n",
        "print(f\"Character embedding shape: {char_embed_example.shape}\")"
      ],
      "metadata": {
        "colab": {
          "base_uri": "https://localhost:8080/"
        },
        "id": "36iD6YmytNDK",
        "outputId": "e02e219e-13e7-4ae7-e9fc-09a28356ea88"
      },
      "execution_count": 112,
      "outputs": [
        {
          "output_type": "stream",
          "name": "stdout",
          "text": [
            "Charified text(before vectorization and embedding):\n",
            "t h e   t o t a l   e f f e c t i v e   r a t e s   o f   c h i n e s e   m e d i c a l   s y m p t o m   i n t e g r a l s   a n d   t c s s   s c o r e   w e r e   o b v i o u s l y   h i g h e r   i n   t h e   t r e a t m e n t   g r o u p   t h a n   i n   t h e   c o n t r o l   g r o u p   (   p   <   @   )   .\n",
            "\n",
            "Embedded chars (after vectorizationand embedding):\n",
            "[[[-0.02184054 -0.02111895  0.0058763  ...  0.04749496 -0.03433776\n",
            "    0.03016916]\n",
            "  [ 0.04436849  0.02762181  0.03952051 ... -0.02136856 -0.01893201\n",
            "   -0.0078989 ]\n",
            "  [-0.03807675 -0.0286361  -0.0178919  ... -0.03650143  0.04880441\n",
            "    0.03698692]\n",
            "  ...\n",
            "  [-0.01500623  0.03529577 -0.00127167 ... -0.00877334 -0.03223965\n",
            "    0.01248331]\n",
            "  [-0.01500623  0.03529577 -0.00127167 ... -0.00877334 -0.03223965\n",
            "    0.01248331]\n",
            "  [-0.01500623  0.03529577 -0.00127167 ... -0.00877334 -0.03223965\n",
            "    0.01248331]]]\n",
            "\n",
            "Character embedding shape: (1, 395, 25)\n"
          ]
        }
      ]
    },
    {
      "cell_type": "code",
      "source": [
        "# Şimdi ise modelimizi desteklemesi için diğer özellikleri hazırlayalım (line_number ve total_lines)\n",
        "# Bu labelları kullanabilmek için one-hot codelamamız lazım ancak depth'i kaç olacak bunu bulmamız lazım yukarıda uyguladığımız yöntemin aynısını uyguluyoruz\n",
        "train_df.line_number.plot.hist(bins=30)"
      ],
      "metadata": {
        "colab": {
          "base_uri": "https://localhost:8080/",
          "height": 447
        },
        "id": "OaQavl2FtQR3",
        "outputId": "ac233d1a-4bf0-4dfe-f195-a58563a4c389"
      },
      "execution_count": 113,
      "outputs": [
        {
          "output_type": "execute_result",
          "data": {
            "text/plain": [
              "<Axes: ylabel='Frequency'>"
            ]
          },
          "metadata": {},
          "execution_count": 113
        },
        {
          "output_type": "display_data",
          "data": {
            "text/plain": [
              "<Figure size 640x480 with 1 Axes>"
            ],
            "image/png": "[encoded data removed]"
          },
          "metadata": {}
        }
      ]
    },
    {
      "cell_type": "code",
      "source": [
        "line_number_depth = int(np.percentile(train_df.line_number.to_numpy(), 99))\n",
        "line_number_depth"
      ],
      "metadata": {
        "colab": {
          "base_uri": "https://localhost:8080/"
        },
        "id": "PA338mVNtzsn",
        "outputId": "af5b1f12-46df-48c4-e251-0fcfd39eff0c"
      },
      "execution_count": 114,
      "outputs": [
        {
          "output_type": "execute_result",
          "data": {
            "text/plain": [
              "17"
            ]
          },
          "metadata": {},
          "execution_count": 114
        }
      ]
    },
    {
      "cell_type": "code",
      "source": [
        "total_lines_depth = int(np.percentile(train_df.total_lines.to_numpy(), 99))\n",
        "total_lines_depth"
      ],
      "metadata": {
        "colab": {
          "base_uri": "https://localhost:8080/"
        },
        "id": "4AJ5dlbvuIPk",
        "outputId": "0d4244d2-f88b-41d6-f7e0-445b091eacb1"
      },
      "execution_count": 115,
      "outputs": [
        {
          "output_type": "execute_result",
          "data": {
            "text/plain": [
              "21"
            ]
          },
          "metadata": {},
          "execution_count": 115
        }
      ]
    },
    {
      "cell_type": "code",
      "source": [
        "train_line_numbers_one_hot = tf.one_hot(train_df[\"line_number\"].to_numpy(), depth=line_number_depth)\n",
        "val_line_numbers_one_hot = tf.one_hot(val_df[\"line_number\"].to_numpy(), depth=line_number_depth)\n",
        "test_line_numbers_one_hot = tf.one_hot(test_df[\"line_number\"].to_numpy(), depth=line_number_depth)\n",
        "\n",
        "train_total_lines_one_hot = tf.one_hot(train_df.total_lines.to_numpy(), depth=total_lines_depth)\n",
        "val_total_lines_one_hot = tf.one_hot(val_df.total_lines.to_numpy(), depth=total_lines_depth)\n",
        "test_total_lines_one_hot = tf.one_hot(test_df.total_lines.to_numpy(), depth=total_lines_depth)\n",
        "\n",
        "train_line_numbers_one_hot[:10], train_line_numbers_one_hot.shape, train_total_lines_one_hot[:10], train_total_lines_one_hot.shape"
      ],
      "metadata": {
        "colab": {
          "base_uri": "https://localhost:8080/"
        },
        "id": "Hg5ZIrLJuMPJ",
        "outputId": "b17dc4b4-192e-47af-fcee-2a72a3c04971"
      },
      "execution_count": 116,
      "outputs": [
        {
          "output_type": "execute_result",
          "data": {
            "text/plain": [
              "(<tf.Tensor: shape=(10, 17), dtype=float32, numpy=\n",
              " array([[1., 0., 0., 0., 0., 0., 0., 0., 0., 0., 0., 0., 0., 0., 0., 0.,\n",
              "         0.],\n",
              "        [0., 1., 0., 0., 0., 0., 0., 0., 0., 0., 0., 0., 0., 0., 0., 0.,\n",
              "         0.],\n",
              "        [0., 0., 1., 0., 0., 0., 0., 0., 0., 0., 0., 0., 0., 0., 0., 0.,\n",
              "         0.],\n",
              "        [0., 0., 0., 1., 0., 0., 0., 0., 0., 0., 0., 0., 0., 0., 0., 0.,\n",
              "         0.],\n",
              "        [0., 0., 0., 0., 1., 0., 0., 0., 0., 0., 0., 0., 0., 0., 0., 0.,\n",
              "         0.],\n",
              "        [0., 0., 0., 0., 0., 1., 0., 0., 0., 0., 0., 0., 0., 0., 0., 0.,\n",
              "         0.],\n",
              "        [0., 0., 0., 0., 0., 0., 1., 0., 0., 0., 0., 0., 0., 0., 0., 0.,\n",
              "         0.],\n",
              "        [0., 0., 0., 0., 0., 0., 0., 1., 0., 0., 0., 0., 0., 0., 0., 0.,\n",
              "         0.],\n",
              "        [0., 0., 0., 0., 0., 0., 0., 0., 1., 0., 0., 0., 0., 0., 0., 0.,\n",
              "         0.],\n",
              "        [0., 0., 0., 0., 0., 0., 0., 0., 0., 1., 0., 0., 0., 0., 0., 0.,\n",
              "         0.]], dtype=float32)>,\n",
              " TensorShape([180040, 17]),\n",
              " <tf.Tensor: shape=(10, 21), dtype=float32, numpy=\n",
              " array([[0., 0., 0., 0., 0., 0., 0., 0., 0., 0., 0., 1., 0., 0., 0., 0.,\n",
              "         0., 0., 0., 0., 0.],\n",
              "        [0., 0., 0., 0., 0., 0., 0., 0., 0., 0., 0., 1., 0., 0., 0., 0.,\n",
              "         0., 0., 0., 0., 0.],\n",
              "        [0., 0., 0., 0., 0., 0., 0., 0., 0., 0., 0., 1., 0., 0., 0., 0.,\n",
              "         0., 0., 0., 0., 0.],\n",
              "        [0., 0., 0., 0., 0., 0., 0., 0., 0., 0., 0., 1., 0., 0., 0., 0.,\n",
              "         0., 0., 0., 0., 0.],\n",
              "        [0., 0., 0., 0., 0., 0., 0., 0., 0., 0., 0., 1., 0., 0., 0., 0.,\n",
              "         0., 0., 0., 0., 0.],\n",
              "        [0., 0., 0., 0., 0., 0., 0., 0., 0., 0., 0., 1., 0., 0., 0., 0.,\n",
              "         0., 0., 0., 0., 0.],\n",
              "        [0., 0., 0., 0., 0., 0., 0., 0., 0., 0., 0., 1., 0., 0., 0., 0.,\n",
              "         0., 0., 0., 0., 0.],\n",
              "        [0., 0., 0., 0., 0., 0., 0., 0., 0., 0., 0., 1., 0., 0., 0., 0.,\n",
              "         0., 0., 0., 0., 0.],\n",
              "        [0., 0., 0., 0., 0., 0., 0., 0., 0., 0., 0., 1., 0., 0., 0., 0.,\n",
              "         0., 0., 0., 0., 0.],\n",
              "        [0., 0., 0., 0., 0., 0., 0., 0., 0., 0., 0., 1., 0., 0., 0., 0.,\n",
              "         0., 0., 0., 0., 0.]], dtype=float32)>,\n",
              " TensorShape([180040, 21]))"
            ]
          },
          "metadata": {},
          "execution_count": 116
        }
      ]
    },
    {
      "cell_type": "code",
      "source": [
        "# Artık modelimizi oluşturabiliriz..\n",
        "token_inputs = layers.Input(shape=[], dtype=tf.string, name=\"token_input\")\n",
        "token_embeddings = tf_hub_embedding_layer(token_inputs)\n",
        "token_outputs = layers.Dense(128, activation=\"relu\")(token_embeddings)\n",
        "token_model = tf.keras.Model(token_inputs, token_outputs)\n",
        "\n",
        "char_inputs = layers.Input(shape=(1,), dtype=tf.string, name=\"char_input\")\n",
        "char_vectors = char_vectorizer(char_inputs)\n",
        "char_embeddings = char_embed(char_vectors)\n",
        "char_bi_lstm = layers.Bidirectional(layers.LSTM(25))(char_embeddings)\n",
        "char_model = tf.keras.Model(char_inputs, char_bi_lstm)\n",
        "\n",
        "line_number_inputs = layers.Input(shape=(line_number_depth,), dtype=tf.float32, name=\"line_number_input\")\n",
        "x = layers.Dense(32, activation=\"relu\")(line_number_inputs)\n",
        "line_number_model = tf.keras.Model(inputs=line_number_inputs,\n",
        "                                   outputs=x)\n",
        "\n",
        "total_lines_inputs = layers.Input(shape=(total_lines_depth,), dtype=tf.float32, name=\"total_lines_input\")\n",
        "y = layers.Dense(32, activation=\"relu\")(total_lines_inputs)\n",
        "total_line_model = tf.keras.Model(inputs=total_lines_inputs,\n",
        "                                   outputs=y)\n",
        "\n",
        "combined_embeddings = layers.Concatenate(name=\"char_token_hybrid_embedding\")([token_model.output,\n",
        "                                                                              char_model.output])\n",
        "\n",
        "z = layers.Dense(256, activation=\"relu\")(combined_embeddings)\n",
        "z = layers.Dropout(0.5)(z)\n",
        "\n",
        "tribrid_embeddings = layers.Concatenate(name=\"char_token_positional_embedding\")([line_number_model.output,\n",
        "                                                                                total_line_model.output,\n",
        "                                                                                z])\n",
        "\n",
        "output_layer = layers.Dense(5, activation=\"softmax\", name=\"output_layer\")(tribrid_embeddings)\n",
        "\n",
        "model = tf.keras.Model(inputs=[line_number_model.input,\n",
        "                                 total_line_model.input,\n",
        "                                 token_model.input,\n",
        "                                 char_model.input],\n",
        "                                 outputs=output_layer)"
      ],
      "metadata": {
        "id": "PgZJJr5GuZ76"
      },
      "execution_count": 117,
      "outputs": []
    },
    {
      "cell_type": "code",
      "source": [
        "# Bir callback oluşturalım.\n",
        "callback = tf.keras.callbacks.EarlyStopping(monitor='val_loss', patience=0)\n",
        "\n",
        "# Modeli compile edelim\n",
        "model.compile(loss=tf.keras.losses.CategoricalCrossentropy(label_smoothing=0.2),\n",
        "                optimizer='adam',\n",
        "                metrics=[\"accuracy\"])"
      ],
      "metadata": {
        "id": "5V6GJxWrw1Ym"
      },
      "execution_count": 118,
      "outputs": []
    },
    {
      "cell_type": "code",
      "source": [
        "# Modelimizin daha hızlı çalışması için verilerimizi tf.data.Dataset'e çevirelim\n",
        "# Modelde daha hızlı çalışmaları için veri setlerini prefetchleyeceğiz (bir batch işlenirken diğer batch hazırlanır böylece işlem daha hızlı olur)\n",
        "train_char_token_pos_data = tf.data.Dataset.from_tensor_slices((train_line_numbers_one_hot,\n",
        "                                                                train_total_lines_one_hot,\n",
        "                                                                train_sentences,\n",
        "                                                                train_chars))\n",
        "\n",
        "train_char_token_pos_labels = tf.data.Dataset.from_tensor_slices(train_labels_one_hot)\n",
        "\n",
        "train_char_token_pos_dataset = tf.data.Dataset.zip((train_char_token_pos_data, train_char_token_pos_labels))\n",
        "train_char_token_pos_dataset = train_char_token_pos_dataset.batch(32).prefetch(tf.data.AUTOTUNE)\n",
        "\n",
        "val_char_token_pos_data = tf.data.Dataset.from_tensor_slices((val_line_numbers_one_hot,\n",
        "                                                                val_total_lines_one_hot,\n",
        "                                                                val_sentences,\n",
        "                                                                val_chars))\n",
        "\n",
        "val_char_token_pos_labels = tf.data.Dataset.from_tensor_slices(val_labels_one_hot)\n",
        "\n",
        "val_char_token_pos_dataset = tf.data.Dataset.zip((val_char_token_pos_data, val_char_token_pos_labels))\n",
        "val_char_token_pos_dataset = val_char_token_pos_dataset.batch(32).prefetch(tf.data.AUTOTUNE)"
      ],
      "metadata": {
        "id": "nBqr5BKBwT8m"
      },
      "execution_count": 119,
      "outputs": []
    },
    {
      "cell_type": "code",
      "source": [
        "# Modeli fit edelim\n",
        "history = model.fit(train_char_token_pos_dataset,\n",
        "                    steps_per_epoch=len(train_char_token_pos_dataset),\n",
        "                    epochs=100,\n",
        "                    validation_data=val_char_token_pos_dataset,\n",
        "                    # Modelin daha hızlı çalışması için validation datasetin %10'u üzerinde validation yapıyoruz.\n",
        "                    validation_steps=int(0.1*len(val_char_token_pos_dataset)),\n",
        "                    callbacks=[callback])"
      ],
      "metadata": {
        "colab": {
          "base_uri": "https://localhost:8080/"
        },
        "id": "AIMKXg_Xwwjz",
        "outputId": "83ebafd0-ed6e-4b5b-d181-34b2d282bc56"
      },
      "execution_count": 121,
      "outputs": [
        {
          "output_type": "stream",
          "name": "stdout",
          "text": [
            "Epoch 1/100\n",
            "5627/5627 [==============================] - 256s 46ms/step - loss: 0.9095 - accuracy: 0.8533 - val_loss: 0.9003 - val_accuracy: 0.8523\n",
            "Epoch 2/100\n",
            "5627/5627 [==============================] - 204s 36ms/step - loss: 0.8980 - accuracy: 0.8613 - val_loss: 0.8997 - val_accuracy: 0.8543\n",
            "Epoch 3/100\n",
            "5627/5627 [==============================] - 204s 36ms/step - loss: 0.8890 - accuracy: 0.8683 - val_loss: 0.9005 - val_accuracy: 0.8523\n"
          ]
        }
      ]
    },
    {
      "cell_type": "code",
      "source": [
        "# Model ile predict etmek için test datasetini oluşturalım.\n",
        "test_pos_char_token_data = tf.data.Dataset.from_tensor_slices((test_line_numbers_one_hot,\n",
        "                                                               test_total_lines_one_hot,\n",
        "                                                               test_sentences,\n",
        "                                                               test_chars))\n",
        "test_pos_char_token_labels = tf.data.Dataset.from_tensor_slices(test_labels_one_hot)\n",
        "test_pos_char_token_dataset = tf.data.Dataset.zip((test_pos_char_token_data, test_pos_char_token_labels))\n",
        "test_pos_char_token_dataset = test_pos_char_token_dataset.batch(32).prefetch(tf.data.AUTOTUNE)"
      ],
      "metadata": {
        "id": "HeQbcoQAwwpH"
      },
      "execution_count": 122,
      "outputs": []
    },
    {
      "cell_type": "code",
      "source": [
        "# Test dataset'i üzerinde modelimiz ile predict yapalım\n",
        "preds = tf.argmax(model.predict(test_pos_char_token_dataset, verbose=0), axis=1)\n",
        "\n",
        "# Modelimizi değerlendirelim (ayrıca test labellarını encode etmemiz lazım)\n",
        "\n",
        "from sklearn.preprocessing import LabelEncoder\n",
        "label_encoder = LabelEncoder()\n",
        "label_encoder.fit(train_df[\"target\"].to_numpy())\n",
        "test_labels_encoded = label_encoder.transform(test_df[\"target\"].to_numpy())\n",
        "\n",
        "from sklearn.metrics import accuracy_score, precision_recall_fscore_support\n",
        "model_accuracy = accuracy_score(test_labels_encoded, preds) * 100\n",
        "model_precision, model_recall, model_f1, _ = precision_recall_fscore_support(test_labels_encoded, preds, average=\"weighted\")\n",
        "model_results = {\"accuracy\": model_accuracy,\n",
        "                  \"precision\": model_precision,\n",
        "                  \"recall\": model_recall,\n",
        "                  \"f1\": model_f1}\n",
        "model_results"
      ],
      "metadata": {
        "colab": {
          "base_uri": "https://localhost:8080/"
        },
        "id": "0vlCaZk9yVou",
        "outputId": "4a3e28ec-9503-474e-d72c-a67ae5c4bf79"
      },
      "execution_count": 123,
      "outputs": [
        {
          "output_type": "execute_result",
          "data": {
            "text/plain": [
              "{'accuracy': 84.78845196615231,\n",
              " 'precision': 0.8482870668371613,\n",
              " 'recall': 0.8478845196615231,\n",
              " 'f1': 0.8450955076162536}"
            ]
          },
          "metadata": {},
          "execution_count": 123
        }
      ]
    }
  ]
}